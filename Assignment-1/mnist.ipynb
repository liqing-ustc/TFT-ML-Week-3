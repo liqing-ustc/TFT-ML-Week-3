{
 "cells": [
  {
   "cell_type": "code",
   "execution_count": 1,
   "metadata": {},
   "outputs": [],
   "source": [
    "#----------------------------------------------------------------\n",
    "#  Author:        TFT\n",
    "#  Written:       05/02/2018\n",
    "#  Last updated:  05/02/2018\n",
    "#\n",
    "#\n",
    "#  TFT Machine Learning\n",
    "#  Assignment  Week 3-1\n",
    "#\n",
    "#----------------------------------------------------------------"
   ]
  },
  {
   "cell_type": "code",
   "execution_count": 9,
   "metadata": {},
   "outputs": [
    {
     "name": "stdout",
     "output_type": "stream",
     "text": [
      "WARNING:tensorflow:From /Users/qingli/anaconda3/lib/python3.6/site-packages/tensorflow/contrib/learn/python/learn/datasets/base.py:219: retry.<locals>.wrap.<locals>.wrapped_fn (from tensorflow.contrib.learn.python.learn.datasets.base) is deprecated and will be removed in a future version.\n",
      "Instructions for updating:\n",
      "Please use urllib or similar directly.\n",
      "Successfully downloaded train-images-idx3-ubyte.gz 9912422 bytes.\n",
      "Extracting data/MNIST/train-images-idx3-ubyte.gz\n",
      "Successfully downloaded train-labels-idx1-ubyte.gz 28881 bytes.\n",
      "Extracting data/MNIST/train-labels-idx1-ubyte.gz\n",
      "Successfully downloaded t10k-images-idx3-ubyte.gz 1648877 bytes.\n",
      "Extracting data/MNIST/t10k-images-idx3-ubyte.gz\n",
      "Successfully downloaded t10k-labels-idx1-ubyte.gz 4542 bytes.\n",
      "Extracting data/MNIST/t10k-labels-idx1-ubyte.gz\n"
     ]
    }
   ],
   "source": [
    "import numpy as np\n",
    "import tensorflow as tf\n",
    "from tensorflow.examples.tutorials.mnist import input_data\n",
    "import time\n",
    "\n",
    "# download the dataset\n",
    "# each image is 28 x 28 \n",
    "mnist = input_data.read_data_sets('data/MNIST',one_hot=True)"
   ]
  },
  {
   "cell_type": "code",
   "execution_count": 3,
   "metadata": {},
   "outputs": [
    {
     "name": "stdout",
     "output_type": "stream",
     "text": [
      "55000\n",
      "5000\n",
      "10000\n",
      "(55000, 784)\n",
      "(55000, 10)\n",
      "(784,)\n",
      "(10,)\n",
      "[0. 0. 0. 1. 0. 0. 0. 0. 0. 0.]\n",
      "3\n"
     ]
    },
    {
     "data": {
      "image/png": "[encoded data removed]",
      "text/plain": [
       "<matplotlib.figure.Figure at 0x1c21b17e80>"
      ]
     },
     "metadata": {},
     "output_type": "display_data"
    }
   ],
   "source": [
    "print(mnist.train.num_examples)\n",
    "print(mnist.validation.num_examples)\n",
    "print(mnist.test.num_examples)\n",
    "print(mnist.train.images.shape)\n",
    "print(mnist.train.labels.shape)\n",
    "img = mnist.train.images[1]\n",
    "label = mnist.train.labels[1]\n",
    "print(img.shape)\n",
    "print(label.shape)\n",
    "print(label)\n",
    "print(np.argmax(label))\n",
    "\n",
    "import matplotlib.pyplot as plt\n",
    "%matplotlib inline\n",
    "plt.imshow(img.reshape([28,28]), cmap = \"gray\")\n",
    "plt.show()"
   ]
  },
  {
   "cell_type": "code",
   "execution_count": 4,
   "metadata": {},
   "outputs": [
    {
     "data": {
      "image/png": "[encoded data removed]",
      "text/plain": [
       "<matplotlib.figure.Figure at 0x1c2b77f5c0>"
      ]
     },
     "metadata": {},
     "output_type": "display_data"
    },
    {
     "name": "stdout",
     "output_type": "stream",
     "text": [
      "Ground Truth: 7\n"
     ]
    },
    {
     "data": {
      "image/png": "[encoded data removed]",
      "text/plain": [
       "<matplotlib.figure.Figure at 0x1c2b833198>"
      ]
     },
     "metadata": {},
     "output_type": "display_data"
    },
    {
     "name": "stdout",
     "output_type": "stream",
     "text": [
      "Ground Truth: 3\n"
     ]
    },
    {
     "data": {
      "image/png": "[encoded data removed]",
      "text/plain": [
       "<matplotlib.figure.Figure at 0x1c2eb96470>"
      ]
     },
     "metadata": {},
     "output_type": "display_data"
    },
    {
     "name": "stdout",
     "output_type": "stream",
     "text": [
      "Ground Truth: 4\n"
     ]
    },
    {
     "data": {
      "image/png": "[encoded data removed]",
      "text/plain": [
       "<matplotlib.figure.Figure at 0x1c2eb6d668>"
      ]
     },
     "metadata": {},
     "output_type": "display_data"
    },
    {
     "name": "stdout",
     "output_type": "stream",
     "text": [
      "Ground Truth: 6\n"
     ]
    },
    {
     "data": {
      "image/png": "[encoded data removed]",
      "text/plain": [
       "<matplotlib.figure.Figure at 0x1c2ec45710>"
      ]
     },
     "metadata": {},
     "output_type": "display_data"
    },
    {
     "name": "stdout",
     "output_type": "stream",
     "text": [
      "Ground Truth: 1\n"
     ]
    },
    {
     "data": {
      "image/png": "[encoded data removed]",
      "text/plain": [
       "<matplotlib.figure.Figure at 0x1c2ec7eba8>"
      ]
     },
     "metadata": {},
     "output_type": "display_data"
    },
    {
     "name": "stdout",
     "output_type": "stream",
     "text": [
      "Ground Truth: 8\n"
     ]
    },
    {
     "data": {
      "image/png": "[encoded data removed]",
      "text/plain": [
       "<matplotlib.figure.Figure at 0x1c2ecd45f8>"
      ]
     },
     "metadata": {},
     "output_type": "display_data"
    },
    {
     "name": "stdout",
     "output_type": "stream",
     "text": [
      "Ground Truth: 1\n"
     ]
    },
    {
     "data": {
      "image/png": "[encoded data removed]",
      "text/plain": [
       "<matplotlib.figure.Figure at 0x1c2ed20588>"
      ]
     },
     "metadata": {},
     "output_type": "display_data"
    },
    {
     "name": "stdout",
     "output_type": "stream",
     "text": [
      "Ground Truth: 0\n"
     ]
    },
    {
     "data": {
      "image/png": "[encoded data removed]",
      "text/plain": [
       "<matplotlib.figure.Figure at 0x1c2ed61cf8>"
      ]
     },
     "metadata": {},
     "output_type": "display_data"
    },
    {
     "name": "stdout",
     "output_type": "stream",
     "text": [
      "Ground Truth: 9\n"
     ]
    },
    {
     "data": {
      "image/png": "[encoded data removed]",
      "text/plain": [
       "<matplotlib.figure.Figure at 0x1c2eda0dd8>"
      ]
     },
     "metadata": {},
     "output_type": "display_data"
    },
    {
     "name": "stdout",
     "output_type": "stream",
     "text": [
      "Ground Truth: 8\n"
     ]
    }
   ],
   "source": [
    "for i in range(10):\n",
    "    img = mnist.train.images[i]\n",
    "    label = mnist.train.labels[i]\n",
    "    plt.figure(figsize=(1,1))\n",
    "    plt.imshow(img.reshape([28, 28]), cmap = \"gray\")\n",
    "    plt.show()\n",
    "    cls = np.argmax(label)\n",
    "    print(\"Ground Truth: %d\" % cls)"
   ]
  },
  {
   "cell_type": "code",
   "execution_count": 5,
   "metadata": {},
   "outputs": [],
   "source": [
    "# 1. Create the model (build the compuation graph)\n",
    "## Hyperparameters\n",
    "batch_size = 64\n",
    "n_input = 784 # 784 = 28 x 28\n",
    "n_hidden = 256\n",
    "n_classes = 10\n",
    "learning_rate = 0.01\n",
    "\n",
    "## Model input\n",
    "x = tf.placeholder(tf.float32, [None, n_input])\n",
    "\n",
    "## Hidden layer\n",
    "W1 = tf.Variable(tf.random_normal([n_input, n_hidden], stddev=0.1))\n",
    "b1 = tf.Variable(tf.zeros([n_hidden]))\n",
    "h1 = tf.matmul(x, W1) + b1\n",
    "h1 = tf.nn.relu(h1)\n",
    "\n",
    "## Hidden layer\n",
    "#W2 = tf.Variable(tf.random_normal([n_hidden, n_hidden], stddev=0.1))\n",
    "#b2 = tf.Variable(tf.zeros([n_hidden]))\n",
    "#h2 = tf.matmul(h1, W2) + b2\n",
    "#h2 = tf.nn.relu(h2)\n",
    "\n",
    "## Output layer\n",
    "W_out = tf.Variable(tf.random_normal([n_hidden, n_classes], stddev=0.1))\n",
    "b_out = tf.Variable(tf.zeros([n_classes]))\n",
    "y_pred = tf.matmul(h1, W_out) + b_out\n",
    "\n",
    "#W1 = tf.Variable(tf.random_normal([n_input, n_classes], stddev=0.1))\n",
    "#b1 = tf.Variable(tf.zeros([n_classes]))\n",
    "#y_pred = tf.matmul(x, W1) + b1\n",
    "\n",
    "\n",
    "## Define loss and optimizer\n",
    "y_gt = tf.placeholder(tf.float32, [None, n_classes])\n",
    "loss = tf.reduce_mean(tf.nn.softmax_cross_entropy_with_logits_v2(logits=y_pred, labels=y_gt, name='loss'))\n",
    "\n",
    "## Train (update model parameters)\n",
    "optimizer = tf.train.GradientDescentOptimizer(learning_rate)\n",
    "#optimizer = tf.train.MomentumOptimizer(learning_rate, 0.9)\n",
    "#optimizer = tf.train.AdamOptimizer()\n",
    "train_step = optimizer.minimize(loss)\n",
    "\n",
    "## Compute Accuracy\n",
    "cls_pred = tf.argmax(y_pred, axis = 1)\n",
    "cls_gt = tf.argmax(y_gt, axis = 1)\n",
    "correct_prediction = tf.equal(cls_pred, cls_gt)\n",
    "accuracy = tf.reduce_mean(tf.cast(correct_prediction, tf.float32))"
   ]
  },
  {
   "cell_type": "code",
   "execution_count": 6,
   "metadata": {
    "scrolled": false
   },
   "outputs": [
    {
     "name": "stdout",
     "output_type": "stream",
     "text": [
      "iter step 0, loss 2.533527, training accuracy 0.046875, validation accuracy 0.095000\n",
      "iter step 100, loss 1.348325, training accuracy 0.625000, validation accuracy 0.648000\n",
      "iter step 200, loss 0.946921, training accuracy 0.750000, validation accuracy 0.765800\n",
      "iter step 300, loss 0.881186, training accuracy 0.734375, validation accuracy 0.805400\n",
      "iter step 400, loss 0.572827, training accuracy 0.875000, validation accuracy 0.836800\n"
     ]
    }
   ],
   "source": [
    "# 2. Train\n",
    "## Initialize\n",
    "sess = tf.InteractiveSession()\n",
    "tf.global_variables_initializer().run()\n",
    "max_iter = 500\n",
    "for iter in range(max_iter):\n",
    "    batch_x, batch_y = mnist.train.next_batch(batch_size)\n",
    "    sess.run(train_step, feed_dict = {x: batch_x, y_gt: batch_y})\n",
    "    if iter % 100 == 0:\n",
    "        train_loss = sess.run(loss, feed_dict = {x: batch_x, y_gt: batch_y})\n",
    "        train_accuracy = sess.run(accuracy, feed_dict = {x: batch_x, y_gt: batch_y})\n",
    "        \n",
    "        validation_x = mnist.validation.images\n",
    "        validation_y = mnist.validation.labels\n",
    "        validation_accuracy = sess.run(accuracy, {x: validation_x, y_gt: validation_y})\n",
    "        \n",
    "        print(\"iter step %d, loss %f, training accuracy %f, validation accuracy %f\" %\n",
    "              (iter, train_loss, train_accuracy, validation_accuracy))"
   ]
  },
  {
   "cell_type": "code",
   "execution_count": 7,
   "metadata": {},
   "outputs": [
    {
     "name": "stdout",
     "output_type": "stream",
     "text": [
      "train accuray: 0.844782\n",
      "validation accuray: 0.849800\n",
      "test accuray: 0.854000\n"
     ]
    }
   ],
   "source": [
    "# 3. Test the trained model\n",
    "train_x = mnist.train.images\n",
    "train_y = mnist.train.labels\n",
    "train_accuracy = sess.run(accuracy, {x: train_x, y_gt: train_y})\n",
    "\n",
    "validation_x = mnist.validation.images\n",
    "validation_y = mnist.validation.labels\n",
    "validation_accuracy = sess.run(accuracy, {x: validation_x, y_gt: validation_y})\n",
    "\n",
    "test_x = mnist.test.images\n",
    "test_y = mnist.test.labels\n",
    "test_accuracy = sess.run(accuracy, {x: test_x, y_gt: test_y})\n",
    "\n",
    "print(\"train accuray: %f\" % train_accuracy)\n",
    "print(\"validation accuray: %f\" % validation_accuracy)\n",
    "print(\"test accuray: %f\" % test_accuracy)"
   ]
  },
  {
   "cell_type": "code",
   "execution_count": 8,
   "metadata": {},
   "outputs": [
    {
     "data": {
      "image/png": "[encoded data removed]",
      "text/plain": [
       "<matplotlib.figure.Figure at 0x1c2ee1b390>"
      ]
     },
     "metadata": {},
     "output_type": "display_data"
    },
    {
     "name": "stdout",
     "output_type": "stream",
     "text": [
      "Ground Truth: 7\n",
      "Model prediction: 7\n"
     ]
    },
    {
     "data": {
      "image/png": "[encoded data removed]",
      "text/plain": [
       "<matplotlib.figure.Figure at 0x1c2ede2cf8>"
      ]
     },
     "metadata": {},
     "output_type": "display_data"
    },
    {
     "name": "stdout",
     "output_type": "stream",
     "text": [
      "Ground Truth: 2\n",
      "Model prediction: 6\n"
     ]
    },
    {
     "data": {
      "image/png": "[encoded data removed]",
      "text/plain": [
       "<matplotlib.figure.Figure at 0x1c27357d68>"
      ]
     },
     "metadata": {},
     "output_type": "display_data"
    },
    {
     "name": "stdout",
     "output_type": "stream",
     "text": [
      "Ground Truth: 1\n",
      "Model prediction: 1\n"
     ]
    },
    {
     "data": {
      "image/png": "[encoded data removed]",
      "text/plain": [
       "<matplotlib.figure.Figure at 0x1c2edec208>"
      ]
     },
     "metadata": {},
     "output_type": "display_data"
    },
    {
     "name": "stdout",
     "output_type": "stream",
     "text": [
      "Ground Truth: 0\n",
      "Model prediction: 0\n"
     ]
    },
    {
     "data": {
      "image/png": "[encoded data removed]",
      "text/plain": [
       "<matplotlib.figure.Figure at 0x1c21b17f60>"
      ]
     },
     "metadata": {},
     "output_type": "display_data"
    },
    {
     "name": "stdout",
     "output_type": "stream",
     "text": [
      "Ground Truth: 4\n",
      "Model prediction: 4\n"
     ]
    },
    {
     "data": {
      "image/png": "[encoded data removed]",
      "text/plain": [
       "<matplotlib.figure.Figure at 0x1c2f1e7ac8>"
      ]
     },
     "metadata": {},
     "output_type": "display_data"
    },
    {
     "name": "stdout",
     "output_type": "stream",
     "text": [
      "Ground Truth: 1\n",
      "Model prediction: 1\n"
     ]
    },
    {
     "data": {
      "image/png": "[encoded data removed]",
      "text/plain": [
       "<matplotlib.figure.Figure at 0x1c2b71c860>"
      ]
     },
     "metadata": {},
     "output_type": "display_data"
    },
    {
     "name": "stdout",
     "output_type": "stream",
     "text": [
      "Ground Truth: 4\n",
      "Model prediction: 4\n"
     ]
    },
    {
     "data": {
      "image/png": "[encoded data removed]",
      "text/plain": [
       "<matplotlib.figure.Figure at 0x1c2ede25c0>"
      ]
     },
     "metadata": {},
     "output_type": "display_data"
    },
    {
     "name": "stdout",
     "output_type": "stream",
     "text": [
      "Ground Truth: 9\n",
      "Model prediction: 9\n"
     ]
    },
    {
     "data": {
      "image/png": "[encoded data removed]",
      "text/plain": [
       "<matplotlib.figure.Figure at 0x1c2ed9d978>"
      ]
     },
     "metadata": {},
     "output_type": "display_data"
    },
    {
     "name": "stdout",
     "output_type": "stream",
     "text": [
      "Ground Truth: 5\n",
      "Model prediction: 2\n"
     ]
    },
    {
     "data": {
      "image/png": "[encoded data removed]",
      "text/plain": [
       "<matplotlib.figure.Figure at 0x1c2b8225c0>"
      ]
     },
     "metadata": {},
     "output_type": "display_data"
    },
    {
     "name": "stdout",
     "output_type": "stream",
     "text": [
      "Ground Truth: 9\n",
      "Model prediction: 7\n"
     ]
    }
   ],
   "source": [
    "for i in range(10):\n",
    "    img = mnist.test.images[i]\n",
    "    label = mnist.test.labels[i]\n",
    "    plt.figure(figsize=(1,1))\n",
    "    plt.imshow(img.reshape([28, 28]), cmap = \"gray\")\n",
    "    plt.show()\n",
    "    cls = np.argmax(label)\n",
    "    print(\"Ground Truth: %d\" % cls)\n",
    "    \n",
    "    pred_label = sess.run(y_pred, feed_dict = {x: img.reshape([1, -1])})\n",
    "    pred_cls = np.argmax(pred_label)\n",
    "    print(\"Model prediction: %s\" % pred_cls)"
   ]
  },
  {
   "cell_type": "code",
   "execution_count": null,
   "metadata": {},
   "outputs": [],
   "source": []
  }
 ],
 "metadata": {
  "kernelspec": {
   "display_name": "Python 3",
   "language": "python",
   "name": "python3"
  },
  "language_info": {
   "codemirror_mode": {
    "name": "ipython",
    "version": 3
   },
   "file_extension": ".py",
   "mimetype": "text/x-python",
   "name": "python",
   "nbconvert_exporter": "python",
   "pygments_lexer": "ipython3",
   "version": "3.6.4"
  }
 },
 "nbformat": 4,
 "nbformat_minor": 2
}
